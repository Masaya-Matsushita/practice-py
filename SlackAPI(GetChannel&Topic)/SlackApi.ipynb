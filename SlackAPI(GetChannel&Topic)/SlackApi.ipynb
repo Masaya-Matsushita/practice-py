{
 "cells": [
  {
   "cell_type": "code",
   "execution_count": 1,
   "id": "d5ef8482-c099-4971-a6a0-74eb27e753d1",
   "metadata": {},
   "outputs": [
    {
     "name": "stdout",
     "output_type": "stream",
     "text": [
      "Requirement already satisfied: requests in /Users/matsushitamasaya/opt/anaconda3/lib/python3.9/site-packages (2.26.0)\n",
      "Requirement already satisfied: charset-normalizer~=2.0.0 in /Users/matsushitamasaya/opt/anaconda3/lib/python3.9/site-packages (from requests) (2.0.4)\n",
      "Requirement already satisfied: certifi>=2017.4.17 in /Users/matsushitamasaya/opt/anaconda3/lib/python3.9/site-packages (from requests) (2021.10.8)\n",
      "Requirement already satisfied: idna<4,>=2.5 in /Users/matsushitamasaya/opt/anaconda3/lib/python3.9/site-packages (from requests) (3.2)\n",
      "Requirement already satisfied: urllib3<1.27,>=1.21.1 in /Users/matsushitamasaya/opt/anaconda3/lib/python3.9/site-packages (from requests) (1.26.7)\n"
     ]
    }
   ],
   "source": [
    "!pip install requests"
   ]
  },
  {
   "cell_type": "code",
   "execution_count": 2,
   "id": "f634b24e-5f12-410d-9815-1dbea603c048",
   "metadata": {},
   "outputs": [],
   "source": [
    "import requests\n",
    "import json"
   ]
  },
  {
   "cell_type": "code",
   "execution_count": 14,
   "id": "8e70978a-6bc6-43fc-b4c4-87b4baca2710",
   "metadata": {},
   "outputs": [],
   "source": [
    "# 必要な変数の設定\n",
    "#APIのURL\n",
    "url = \"https://slack.com/api/conversations.list\"\n",
    "#取得したトークン\n",
    "token = \"sample-token\""
   ]
  },
  {
   "cell_type": "code",
   "execution_count": 15,
   "id": "e1f3911c-dd71-4653-99aa-9d7ed5937c9e",
   "metadata": {},
   "outputs": [
    {
     "data": {
      "text/plain": [
       "{'Authorization': 'Bearer sample-token'}"
      ]
     },
     "execution_count": 15,
     "metadata": {},
     "output_type": "execute_result"
    }
   ],
   "source": [
    "headers = {\"Authorization\": \"Bearer \"+token}\n",
    "#確認のため出力\n",
    "headers"
   ]
  },
  {
   "cell_type": "code",
   "execution_count": 5,
   "id": "3eb1fd80-f8f0-4aab-adc8-a60a08e90cde",
   "metadata": {},
   "outputs": [],
   "source": [
    "#チャンネル一覧の取得\n",
    "response = requests.post(url, headers=headers)"
   ]
  },
  {
   "cell_type": "code",
   "execution_count": 6,
   "id": "7247491a-2544-4ee0-9c1b-db81c8a47484",
   "metadata": {},
   "outputs": [
    {
     "data": {
      "text/plain": [
       "{'ok': True,\n",
       " 'channels': [{'id': 'C03D31AV3AB',\n",
       "   'name': 'random',\n",
       "   'is_channel': True,\n",
       "   'is_group': False,\n",
       "   'is_im': False,\n",
       "   'is_mpim': False,\n",
       "   'is_private': False,\n",
       "   'created': 1651239779,\n",
       "   'is_archived': False,\n",
       "   'is_general': False,\n",
       "   'unlinked': 0,\n",
       "   'name_normalized': 'random',\n",
       "   'is_shared': False,\n",
       "   'is_org_shared': False,\n",
       "   'is_pending_ext_shared': False,\n",
       "   'pending_shared': [],\n",
       "   'parent_conversation': None,\n",
       "   'creator': 'U03DB03A33Q',\n",
       "   'is_ext_shared': False,\n",
       "   'shared_team_ids': ['T03DW85G54Z'],\n",
       "   'pending_connected_team_ids': [],\n",
       "   'is_member': True,\n",
       "   'topic': {'value': '', 'creator': '', 'last_set': 0},\n",
       "   'purpose': {'value': 'このチャンネルでは、どんなことでも話せます。チーム内のジョークや、とっさに思い付いたアイデア、おもしろい GIF 画像を投稿できます。思いのままに活用しましょう！',\n",
       "    'creator': 'U03DB03A33Q',\n",
       "    'last_set': 1651239779},\n",
       "   'previous_names': [],\n",
       "   'num_members': 1},\n",
       "  {'id': 'C03DL0PARCL',\n",
       "   'name': 'slackapiのテストをする個人用スペース',\n",
       "   'is_channel': True,\n",
       "   'is_group': False,\n",
       "   'is_im': False,\n",
       "   'is_mpim': False,\n",
       "   'is_private': False,\n",
       "   'created': 1651240104,\n",
       "   'is_archived': False,\n",
       "   'is_general': False,\n",
       "   'unlinked': 0,\n",
       "   'name_normalized': 'slackapiのﾃｽﾄをする個人用ｽﾍﾟｰｽ',\n",
       "   'is_shared': False,\n",
       "   'is_org_shared': False,\n",
       "   'is_pending_ext_shared': False,\n",
       "   'pending_shared': [],\n",
       "   'parent_conversation': None,\n",
       "   'creator': 'U03DB03A33Q',\n",
       "   'is_ext_shared': False,\n",
       "   'shared_team_ids': ['T03DW85G54Z'],\n",
       "   'pending_connected_team_ids': [],\n",
       "   'is_member': True,\n",
       "   'topic': {'value': '', 'creator': '', 'last_set': 0},\n",
       "   'purpose': {'value': 'この *channel* はプロジェクトの作業に使います。ミーティングの開催、資料の共有、チーム一体での意思決定ができます。',\n",
       "    'creator': 'U03DB03A33Q',\n",
       "    'last_set': 1651240104},\n",
       "   'previous_names': [],\n",
       "   'num_members': 1},\n",
       "  {'id': 'C03E7BPCM1N',\n",
       "   'name': 'general',\n",
       "   'is_channel': True,\n",
       "   'is_group': False,\n",
       "   'is_im': False,\n",
       "   'is_mpim': False,\n",
       "   'is_private': False,\n",
       "   'created': 1651239779,\n",
       "   'is_archived': False,\n",
       "   'is_general': True,\n",
       "   'unlinked': 0,\n",
       "   'name_normalized': 'general',\n",
       "   'is_shared': False,\n",
       "   'is_org_shared': False,\n",
       "   'is_pending_ext_shared': False,\n",
       "   'pending_shared': [],\n",
       "   'parent_conversation': None,\n",
       "   'creator': 'U03DB03A33Q',\n",
       "   'is_ext_shared': False,\n",
       "   'shared_team_ids': ['T03DW85G54Z'],\n",
       "   'pending_connected_team_ids': [],\n",
       "   'is_member': True,\n",
       "   'topic': {'value': '', 'creator': '', 'last_set': 0},\n",
       "   'purpose': {'value': 'このチャンネルには、常にすべてのメンバーが含まれます。社内通知やチーム全体の会話にぴったりです。',\n",
       "    'creator': 'U03DB03A33Q',\n",
       "    'last_set': 1651239779},\n",
       "   'previous_names': [],\n",
       "   'num_members': 1}],\n",
       " 'response_metadata': {'next_cursor': ''}}"
      ]
     },
     "execution_count": 6,
     "metadata": {},
     "output_type": "execute_result"
    }
   ],
   "source": [
    "#オブジェクトを辞書型に変換\n",
    "channel_data = response.json()\n",
    "#確認のため出力\n",
    "channel_data"
   ]
  },
  {
   "cell_type": "code",
   "execution_count": 7,
   "id": "73ad8eb8-fb7f-4470-acc2-b713e7d5ce48",
   "metadata": {},
   "outputs": [
    {
     "data": {
      "text/plain": [
       "'{\\n  \"ok\": true,\\n  \"channels\": [\\n    {\\n      \"id\": \"C03D31AV3AB\",\\n      \"name\": \"random\",\\n      \"is_channel\": true,\\n      \"is_group\": false,\\n      \"is_im\": false,\\n      \"is_mpim\": false,\\n      \"is_private\": false,\\n      \"created\": 1651239779,\\n      \"is_archived\": false,\\n      \"is_general\": false,\\n      \"unlinked\": 0,\\n      \"name_normalized\": \"random\",\\n      \"is_shared\": false,\\n      \"is_org_shared\": false,\\n      \"is_pending_ext_shared\": false,\\n      \"pending_shared\": [],\\n      \"parent_conversation\": null,\\n      \"creator\": \"U03DB03A33Q\",\\n      \"is_ext_shared\": false,\\n      \"shared_team_ids\": [\\n        \"T03DW85G54Z\"\\n      ],\\n      \"pending_connected_team_ids\": [],\\n      \"is_member\": true,\\n      \"topic\": {\\n        \"value\": \"\",\\n        \"creator\": \"\",\\n        \"last_set\": 0\\n      },\\n      \"purpose\": {\\n        \"value\": \"\\\\u3053\\\\u306e\\\\u30c1\\\\u30e3\\\\u30f3\\\\u30cd\\\\u30eb\\\\u3067\\\\u306f\\\\u3001\\\\u3069\\\\u3093\\\\u306a\\\\u3053\\\\u3068\\\\u3067\\\\u3082\\\\u8a71\\\\u305b\\\\u307e\\\\u3059\\\\u3002\\\\u30c1\\\\u30fc\\\\u30e0\\\\u5185\\\\u306e\\\\u30b8\\\\u30e7\\\\u30fc\\\\u30af\\\\u3084\\\\u3001\\\\u3068\\\\u3063\\\\u3055\\\\u306b\\\\u601d\\\\u3044\\\\u4ed8\\\\u3044\\\\u305f\\\\u30a2\\\\u30a4\\\\u30c7\\\\u30a2\\\\u3001\\\\u304a\\\\u3082\\\\u3057\\\\u308d\\\\u3044 GIF \\\\u753b\\\\u50cf\\\\u3092\\\\u6295\\\\u7a3f\\\\u3067\\\\u304d\\\\u307e\\\\u3059\\\\u3002\\\\u601d\\\\u3044\\\\u306e\\\\u307e\\\\u307e\\\\u306b\\\\u6d3b\\\\u7528\\\\u3057\\\\u307e\\\\u3057\\\\u3087\\\\u3046\\\\uff01\",\\n        \"creator\": \"U03DB03A33Q\",\\n        \"last_set\": 1651239779\\n      },\\n      \"previous_names\": [],\\n      \"num_members\": 1\\n    },\\n    {\\n      \"id\": \"C03DL0PARCL\",\\n      \"name\": \"slackapi\\\\u306e\\\\u30c6\\\\u30b9\\\\u30c8\\\\u3092\\\\u3059\\\\u308b\\\\u500b\\\\u4eba\\\\u7528\\\\u30b9\\\\u30da\\\\u30fc\\\\u30b9\",\\n      \"is_channel\": true,\\n      \"is_group\": false,\\n      \"is_im\": false,\\n      \"is_mpim\": false,\\n      \"is_private\": false,\\n      \"created\": 1651240104,\\n      \"is_archived\": false,\\n      \"is_general\": false,\\n      \"unlinked\": 0,\\n      \"name_normalized\": \"slackapi\\\\u306e\\\\uff83\\\\uff7d\\\\uff84\\\\u3092\\\\u3059\\\\u308b\\\\u500b\\\\u4eba\\\\u7528\\\\uff7d\\\\uff8d\\\\uff9f\\\\uff70\\\\uff7d\",\\n      \"is_shared\": false,\\n      \"is_org_shared\": false,\\n      \"is_pending_ext_shared\": false,\\n      \"pending_shared\": [],\\n      \"parent_conversation\": null,\\n      \"creator\": \"U03DB03A33Q\",\\n      \"is_ext_shared\": false,\\n      \"shared_team_ids\": [\\n        \"T03DW85G54Z\"\\n      ],\\n      \"pending_connected_team_ids\": [],\\n      \"is_member\": true,\\n      \"topic\": {\\n        \"value\": \"\",\\n        \"creator\": \"\",\\n        \"last_set\": 0\\n      },\\n      \"purpose\": {\\n        \"value\": \"\\\\u3053\\\\u306e *channel* \\\\u306f\\\\u30d7\\\\u30ed\\\\u30b8\\\\u30a7\\\\u30af\\\\u30c8\\\\u306e\\\\u4f5c\\\\u696d\\\\u306b\\\\u4f7f\\\\u3044\\\\u307e\\\\u3059\\\\u3002\\\\u30df\\\\u30fc\\\\u30c6\\\\u30a3\\\\u30f3\\\\u30b0\\\\u306e\\\\u958b\\\\u50ac\\\\u3001\\\\u8cc7\\\\u6599\\\\u306e\\\\u5171\\\\u6709\\\\u3001\\\\u30c1\\\\u30fc\\\\u30e0\\\\u4e00\\\\u4f53\\\\u3067\\\\u306e\\\\u610f\\\\u601d\\\\u6c7a\\\\u5b9a\\\\u304c\\\\u3067\\\\u304d\\\\u307e\\\\u3059\\\\u3002\",\\n        \"creator\": \"U03DB03A33Q\",\\n        \"last_set\": 1651240104\\n      },\\n      \"previous_names\": [],\\n      \"num_members\": 1\\n    },\\n    {\\n      \"id\": \"C03E7BPCM1N\",\\n      \"name\": \"general\",\\n      \"is_channel\": true,\\n      \"is_group\": false,\\n      \"is_im\": false,\\n      \"is_mpim\": false,\\n      \"is_private\": false,\\n      \"created\": 1651239779,\\n      \"is_archived\": false,\\n      \"is_general\": true,\\n      \"unlinked\": 0,\\n      \"name_normalized\": \"general\",\\n      \"is_shared\": false,\\n      \"is_org_shared\": false,\\n      \"is_pending_ext_shared\": false,\\n      \"pending_shared\": [],\\n      \"parent_conversation\": null,\\n      \"creator\": \"U03DB03A33Q\",\\n      \"is_ext_shared\": false,\\n      \"shared_team_ids\": [\\n        \"T03DW85G54Z\"\\n      ],\\n      \"pending_connected_team_ids\": [],\\n      \"is_member\": true,\\n      \"topic\": {\\n        \"value\": \"\",\\n        \"creator\": \"\",\\n        \"last_set\": 0\\n      },\\n      \"purpose\": {\\n        \"value\": \"\\\\u3053\\\\u306e\\\\u30c1\\\\u30e3\\\\u30f3\\\\u30cd\\\\u30eb\\\\u306b\\\\u306f\\\\u3001\\\\u5e38\\\\u306b\\\\u3059\\\\u3079\\\\u3066\\\\u306e\\\\u30e1\\\\u30f3\\\\u30d0\\\\u30fc\\\\u304c\\\\u542b\\\\u307e\\\\u308c\\\\u307e\\\\u3059\\\\u3002\\\\u793e\\\\u5185\\\\u901a\\\\u77e5\\\\u3084\\\\u30c1\\\\u30fc\\\\u30e0\\\\u5168\\\\u4f53\\\\u306e\\\\u4f1a\\\\u8a71\\\\u306b\\\\u3074\\\\u3063\\\\u305f\\\\u308a\\\\u3067\\\\u3059\\\\u3002\",\\n        \"creator\": \"U03DB03A33Q\",\\n        \"last_set\": 1651239779\\n      },\\n      \"previous_names\": [],\\n      \"num_members\": 1\\n    }\\n  ],\\n  \"response_metadata\": {\\n    \"next_cursor\": \"\"\\n  }\\n}'"
      ]
     },
     "execution_count": 7,
     "metadata": {},
     "output_type": "execute_result"
    }
   ],
   "source": [
    "#インデントをつけてさらに見やすい形式に変換\n",
    "channel_json = json.dumps(channel_data, indent=2)\n",
    "channel_json"
   ]
  },
  {
   "cell_type": "code",
   "execution_count": 8,
   "id": "8da8d18f-4fb9-4b7f-be4a-46ccae888c4a",
   "metadata": {},
   "outputs": [],
   "source": [
    "#トピックと説明を代入する辞書を用意\n",
    "channeldict = {}"
   ]
  },
  {
   "cell_type": "code",
   "execution_count": 9,
   "id": "699b897d-736e-4176-b937-9c5f6b376d81",
   "metadata": {},
   "outputs": [
    {
     "data": {
      "text/plain": [
       "{'random': {'id': 'C03D31AV3AB',\n",
       "  'トピック': {'value': '', 'creator': '', 'last_set': 0},\n",
       "  '説明': {'value': 'このチャンネルでは、どんなことでも話せます。チーム内のジョークや、とっさに思い付いたアイデア、おもしろい GIF 画像を投稿できます。思いのままに活用しましょう！',\n",
       "   'creator': 'U03DB03A33Q',\n",
       "   'last_set': 1651239779}},\n",
       " 'slackapiのテストをする個人用スペース': {'id': 'C03DL0PARCL',\n",
       "  'トピック': {'value': '', 'creator': '', 'last_set': 0},\n",
       "  '説明': {'value': 'この *channel* はプロジェクトの作業に使います。ミーティングの開催、資料の共有、チーム一体での意思決定ができます。',\n",
       "   'creator': 'U03DB03A33Q',\n",
       "   'last_set': 1651240104}},\n",
       " 'general': {'id': 'C03E7BPCM1N',\n",
       "  'トピック': {'value': '', 'creator': '', 'last_set': 0},\n",
       "  '説明': {'value': 'このチャンネルには、常にすべてのメンバーが含まれます。社内通知やチーム全体の会話にぴったりです。',\n",
       "   'creator': 'U03DB03A33Q',\n",
       "   'last_set': 1651239779}}}"
      ]
     },
     "execution_count": 9,
     "metadata": {},
     "output_type": "execute_result"
    }
   ],
   "source": [
    "#idとtopicとpurposeをchannellistに代入\n",
    "for i in channel_data[\"channels\"]:\n",
    "    channeldict[i[\"name\"]] = {\"id\": i[\"id\"],\n",
    "                              \"トピック\": i[\"topic\"],\n",
    "                              \"説明\": i[\"purpose\"]}\n",
    "channeldict"
   ]
  },
  {
   "cell_type": "code",
   "execution_count": 10,
   "id": "7bc29974-121b-4ef7-89be-bf2267c3463e",
   "metadata": {},
   "outputs": [
    {
     "name": "stdout",
     "output_type": "stream",
     "text": [
      "{\n",
      "  \"general\": {\n",
      "    \"id\": \"C03E7BPCM1N\",\n",
      "    \"トピック\": {\n",
      "      \"creator\": \"\",\n",
      "      \"last_set\": 0,\n",
      "      \"value\": \"\"\n",
      "    },\n",
      "    \"説明\": {\n",
      "      \"creator\": \"U03DB03A33Q\",\n",
      "      \"last_set\": 1651239779,\n",
      "      \"value\": \"このチャンネルには、常にすべてのメンバーが含まれます。社内通知やチーム全体の会話にぴったりです。\"\n",
      "    }\n",
      "  },\n",
      "  \"random\": {\n",
      "    \"id\": \"C03D31AV3AB\",\n",
      "    \"トピック\": {\n",
      "      \"creator\": \"\",\n",
      "      \"last_set\": 0,\n",
      "      \"value\": \"\"\n",
      "    },\n",
      "    \"説明\": {\n",
      "      \"creator\": \"U03DB03A33Q\",\n",
      "      \"last_set\": 1651239779,\n",
      "      \"value\": \"このチャンネルでは、どんなことでも話せます。チーム内のジョークや、とっさに思い付いたアイデア、おもしろい GIF 画像を投稿できます。思いのままに活用しましょう！\"\n",
      "    }\n",
      "  },\n",
      "  \"slackapiのテストをする個人用スペース\": {\n",
      "    \"id\": \"C03DL0PARCL\",\n",
      "    \"トピック\": {\n",
      "      \"creator\": \"\",\n",
      "      \"last_set\": 0,\n",
      "      \"value\": \"\"\n",
      "    },\n",
      "    \"説明\": {\n",
      "      \"creator\": \"U03DB03A33Q\",\n",
      "      \"last_set\": 1651240104,\n",
      "      \"value\": \"この *channel* はプロジェクトの作業に使います。ミーティングの開催、資料の共有、チーム一体での意思決定ができます。\"\n",
      "    }\n",
      "  }\n",
      "}\n"
     ]
    }
   ],
   "source": [
    "#　インデントをつけてさらに見やすい形式に変換\n",
    "channel_json = json.dumps(channeldict, sort_keys=True,\n",
    "                          ensure_ascii=False, indent=2)\n",
    "print(channel_json)"
   ]
  },
  {
   "cell_type": "code",
   "execution_count": 12,
   "id": "d4a39887-7dbf-4eae-8e14-b62099fbcfea",
   "metadata": {},
   "outputs": [],
   "source": [
    "# channel.jsonファイルに書き込み\n",
    "with open(\"channel.json\", \"w\") as f:\n",
    "    f.write(channel_json)"
   ]
  }
 ],
 "metadata": {
  "kernelspec": {
   "display_name": "Python 3 (ipykernel)",
   "language": "python",
   "name": "python3"
  },
  "language_info": {
   "codemirror_mode": {
    "name": "ipython",
    "version": 3
   },
   "file_extension": ".py",
   "mimetype": "text/x-python",
   "name": "python",
   "nbconvert_exporter": "python",
   "pygments_lexer": "ipython3",
   "version": "3.9.7"
  }
 },
 "nbformat": 4,
 "nbformat_minor": 5
}
