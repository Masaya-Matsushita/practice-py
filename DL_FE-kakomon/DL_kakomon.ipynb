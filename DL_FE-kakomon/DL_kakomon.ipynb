{
 "cells": [
  {
   "cell_type": "code",
   "execution_count": 1,
   "id": "c1a18dea-c5ba-4fd2-992a-14f797d7035e",
   "metadata": {},
   "outputs": [],
   "source": [
    "from japanera import Japanera\n",
    "from datetime import date\n",
    "import urllib.request"
   ]
  },
  {
   "cell_type": "code",
   "execution_count": 2,
   "id": "16e8d01e-6395-416e-9774-db4846c6f9dd",
   "metadata": {},
   "outputs": [],
   "source": [
    "def download(startYear, endYear):\n",
    "    # URLの共通（前半）部分\n",
    "    urlbase = \"https://www.jitec.ipa.go.jp/1_04hanni_sukiru/mondai_kaitou_\"\n",
    "    # Japanera\n",
    "    jpnera = Japanera()\n",
    "    # 春期と秋期\n",
    "    seasons = {1:\"h\", 2:\"a\"}\n",
    "    months = {1:4, 2:10}\n",
    "    # 時間帯\n",
    "    times = [\"am\", \"pm\"]\n",
    "    # 問題・解答・講評\n",
    "    qacs = [\"qs\", \"ans\", \"cmnt\"]\n",
    "\n",
    "    print(\"downloading...\")\n",
    "\n",
    "    # [startYear]年度から[endYear]年度のPDF（問題・解答・講評）をダウンロード\n",
    "    for year in range(startYear, endYear + 1):\n",
    "        for season in seasons.items():\n",
    "            (sKey, sValue) = season\n",
    "            # 年度の文字列（例: 2015h21）\n",
    "            nendo1 = str(year) + jpnera.strftime(date(year, 4, 1), \"%-a%-o\").lower()\n",
    "            nendo2 = str(year) + jpnera.strftime(date(year, months[sKey], 1), \"%-a%-o\").lower()\n",
    "\n",
    "            for time in times:\n",
    "                for qac in qacs:\n",
    "                    # 講評は午後のみ\n",
    "                    if not (time == \"am\" and qac == \"cmnt\"):\n",
    "                        try:\n",
    "                            url = urlbase + nendo1 + \"_\" + str(sKey) + \"/\" + nendo2 + sValue + \"_fe_\" + time + \"_\" + qac + \".pdf\"\n",
    "                            filename = nendo2 + sValue + \"_fe_\" + time + \"_\" + qac + \".pdf\"\n",
    "                            urllib.request.urlretrieve(url, \"{0}\".format(filename))\n",
    "                        except urllib.error.HTTPError:\n",
    "                            # ダウンロードできなかったファイル名を表示\n",
    "                            print(\"Error: \" + filename)\n",
    "\n",
    "    print(\"finished!\")"
   ]
  },
  {
   "cell_type": "code",
   "execution_count": 3,
   "id": "9e76e42a-1c33-4921-b86f-26b28770c265",
   "metadata": {},
   "outputs": [
    {
     "name": "stdout",
     "output_type": "stream",
     "text": [
      "downloading...\n",
      "finished!\n"
     ]
    }
   ],
   "source": [
    "if __name__ == \"__main__\":\n",
    "    # [第1引数]年度から[第2引数]年度のPDF（問題・解答・講評）をダウンロード\n",
    "    download(2018, 2019)"
   ]
  },
  {
   "cell_type": "code",
   "execution_count": null,
   "id": "30650d88-5014-407f-8d80-539e6fe898cc",
   "metadata": {},
   "outputs": [],
   "source": []
  }
 ],
 "metadata": {
  "kernelspec": {
   "display_name": "Python 3 (ipykernel)",
   "language": "python",
   "name": "python3"
  },
  "language_info": {
   "codemirror_mode": {
    "name": "ipython",
    "version": 3
   },
   "file_extension": ".py",
   "mimetype": "text/x-python",
   "name": "python",
   "nbconvert_exporter": "python",
   "pygments_lexer": "ipython3",
   "version": "3.9.7"
  }
 },
 "nbformat": 4,
 "nbformat_minor": 5
}
