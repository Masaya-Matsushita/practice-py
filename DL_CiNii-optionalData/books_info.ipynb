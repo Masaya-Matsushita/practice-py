{
 "cells": [
  {
   "cell_type": "code",
   "execution_count": 14,
   "id": "7d58b5b0-c5e9-43f6-9814-4fd7bce45202",
   "metadata": {},
   "outputs": [
    {
     "name": "stdin",
     "output_type": "stream",
     "text": [
      "検索キーワード:  社会\n"
     ]
    }
   ],
   "source": [
    "import requests\n",
    "import pandas as pd\n",
    "\n",
    "# 自作モジュール\n",
    "def main():\n",
    "    word = input('検索キーワード: ')\n",
    "    res = requests.get('https://ci.nii.ac.jp/books/opensearch/search?'\n",
    "                       f'format=json&q={word}&sortorder=3&count=100')\n",
    "    \n",
    "    #　失敗時は例外創出　→　後続の処理を行わない\n",
    "    res.raise_for_status()\n",
    "    \n",
    "    # json形式に変換\n",
    "    books = res.json()\n",
    "    \n",
    "    # booksの@graphを抽出\n",
    "    graph = books['@graph'][0]\n",
    "    \n",
    "    # 該当の書籍なしの場合\n",
    "    #　不具合でないため例外は発生させていない\n",
    "    if 'items' not in graph.keys():\n",
    "        print('該当する書籍は見つかりません')\n",
    "        return\n",
    "    \n",
    "    # graphからitemsを抽出し、データフレームを作成\n",
    "    df = pd.DataFrame(graph['items'])\n",
    "    \n",
    "    # rename後、抽出、xlsxとして出力\n",
    "    # メソッドチェーン、()で処理を囲んだ範囲は1行とみなす\n",
    "    (df.rename(columns={\n",
    "            'title' : 'タイトル',\n",
    "            'dc:creator' : '著者名',\n",
    "            'dc:date' : '出版年'})\n",
    "         .loc[:, ['タイトル', '著者名', '出版年']]\n",
    "         .to_excel(f'{word}.xlsx'))\n",
    "    \n",
    "# 実行\n",
    "if __name__ == '__main__':\n",
    "    main()"
   ]
  }
 ],
 "metadata": {
  "kernelspec": {
   "display_name": "Python 3 (ipykernel)",
   "language": "python",
   "name": "python3"
  },
  "language_info": {
   "codemirror_mode": {
    "name": "ipython",
    "version": 3
   },
   "file_extension": ".py",
   "mimetype": "text/x-python",
   "name": "python",
   "nbconvert_exporter": "python",
   "pygments_lexer": "ipython3",
   "version": "3.9.7"
  }
 },
 "nbformat": 4,
 "nbformat_minor": 5
}
